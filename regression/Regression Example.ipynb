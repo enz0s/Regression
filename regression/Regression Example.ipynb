{
 "cells": [
  {
   "cell_type": "code",
   "execution_count": 17,
   "metadata": {
    "collapsed": true
   },
   "outputs": [],
   "source": [
    "import numpy as np\n",
    "import pandas as pd"
   ]
  },
  {
   "cell_type": "code",
   "execution_count": 18,
   "metadata": {
    "collapsed": true
   },
   "outputs": [],
   "source": [
    "# from urllib.request import urlopen"
   ]
  },
  {
   "cell_type": "code",
   "execution_count": 19,
   "metadata": {
    "collapsed": false
   },
   "outputs": [],
   "source": [
    "nasdaqFile = './NASDAQ.csv'\n",
    "spFile = './sp_500.csv'\n",
    "googFile = './goog.csv'\n",
    "oilFile = './'\n",
    "xomFile = './'"
   ]
  },
  {
   "cell_type": "code",
   "execution_count": 20,
   "metadata": {
    "collapsed": false
   },
   "outputs": [],
   "source": [
    "data = pd.read_csv(googFile,sep=\",\", usecols=[0,4], names=['Date','Price'], header=0)"
   ]
  },
  {
   "cell_type": "code",
   "execution_count": 21,
   "metadata": {
    "collapsed": false
   },
   "outputs": [
    {
     "data": {
      "text/html": [
       "<div>\n",
       "<table border=\"1\" class=\"dataframe\">\n",
       "  <thead>\n",
       "    <tr style=\"text-align: right;\">\n",
       "      <th></th>\n",
       "      <th>Date</th>\n",
       "      <th>Price</th>\n",
       "    </tr>\n",
       "  </thead>\n",
       "  <tbody>\n",
       "    <tr>\n",
       "      <th>0</th>\n",
       "      <td>4/7/2010</td>\n",
       "      <td>563.54</td>\n",
       "    </tr>\n",
       "    <tr>\n",
       "      <th>1</th>\n",
       "      <td>4/6/2010</td>\n",
       "      <td>568.22</td>\n",
       "    </tr>\n",
       "    <tr>\n",
       "      <th>2</th>\n",
       "      <td>4/5/2010</td>\n",
       "      <td>571.01</td>\n",
       "    </tr>\n",
       "    <tr>\n",
       "      <th>3</th>\n",
       "      <td>4/1/2010</td>\n",
       "      <td>568.80</td>\n",
       "    </tr>\n",
       "    <tr>\n",
       "      <th>4</th>\n",
       "      <td>3/31/2010</td>\n",
       "      <td>567.12</td>\n",
       "    </tr>\n",
       "  </tbody>\n",
       "</table>\n",
       "</div>"
      ],
      "text/plain": [
       "        Date   Price\n",
       "0   4/7/2010  563.54\n",
       "1   4/6/2010  568.22\n",
       "2   4/5/2010  571.01\n",
       "3   4/1/2010  568.80\n",
       "4  3/31/2010  567.12"
      ]
     },
     "execution_count": 21,
     "metadata": {},
     "output_type": "execute_result"
    }
   ],
   "source": [
    "data.head()"
   ]
  },
  {
   "cell_type": "code",
   "execution_count": 22,
   "metadata": {
    "collapsed": true
   },
   "outputs": [],
   "source": [
    "# convert individual columns into arrays\n",
    "returns = np.array(data[\"Price\"][:-1],np.float)/np.array(data[\"Price\"][1:], np.float) - 1"
   ]
  },
  {
   "cell_type": "code",
   "execution_count": 23,
   "metadata": {
    "collapsed": true
   },
   "outputs": [],
   "source": [
    "data[\"Returns\"]=np.append(returns,np.nan)"
   ]
  },
  {
   "cell_type": "code",
   "execution_count": 24,
   "metadata": {
    "collapsed": false
   },
   "outputs": [
    {
     "data": {
      "text/html": [
       "<div>\n",
       "<table border=\"1\" class=\"dataframe\">\n",
       "  <thead>\n",
       "    <tr style=\"text-align: right;\">\n",
       "      <th></th>\n",
       "      <th>Date</th>\n",
       "      <th>Price</th>\n",
       "      <th>Returns</th>\n",
       "    </tr>\n",
       "  </thead>\n",
       "  <tbody>\n",
       "    <tr>\n",
       "      <th>0</th>\n",
       "      <td>4/7/2010</td>\n",
       "      <td>563.54</td>\n",
       "      <td>-0.008236</td>\n",
       "    </tr>\n",
       "    <tr>\n",
       "      <th>1</th>\n",
       "      <td>4/6/2010</td>\n",
       "      <td>568.22</td>\n",
       "      <td>-0.004886</td>\n",
       "    </tr>\n",
       "    <tr>\n",
       "      <th>2</th>\n",
       "      <td>4/5/2010</td>\n",
       "      <td>571.01</td>\n",
       "      <td>0.003885</td>\n",
       "    </tr>\n",
       "    <tr>\n",
       "      <th>3</th>\n",
       "      <td>4/1/2010</td>\n",
       "      <td>568.80</td>\n",
       "      <td>0.002962</td>\n",
       "    </tr>\n",
       "    <tr>\n",
       "      <th>4</th>\n",
       "      <td>3/31/2010</td>\n",
       "      <td>567.12</td>\n",
       "      <td>0.000723</td>\n",
       "    </tr>\n",
       "    <tr>\n",
       "      <th>5</th>\n",
       "      <td>3/30/2010</td>\n",
       "      <td>566.71</td>\n",
       "      <td>0.007574</td>\n",
       "    </tr>\n",
       "    <tr>\n",
       "      <th>6</th>\n",
       "      <td>3/29/2010</td>\n",
       "      <td>562.45</td>\n",
       "      <td>-0.000427</td>\n",
       "    </tr>\n",
       "    <tr>\n",
       "      <th>7</th>\n",
       "      <td>3/26/2010</td>\n",
       "      <td>562.69</td>\n",
       "      <td>-0.000338</td>\n",
       "    </tr>\n",
       "    <tr>\n",
       "      <th>8</th>\n",
       "      <td>3/25/2010</td>\n",
       "      <td>562.88</td>\n",
       "      <td>0.009958</td>\n",
       "    </tr>\n",
       "    <tr>\n",
       "      <th>9</th>\n",
       "      <td>3/24/2010</td>\n",
       "      <td>557.33</td>\n",
       "      <td>0.015173</td>\n",
       "    </tr>\n",
       "    <tr>\n",
       "      <th>10</th>\n",
       "      <td>3/23/2010</td>\n",
       "      <td>549.00</td>\n",
       "      <td>-0.015247</td>\n",
       "    </tr>\n",
       "    <tr>\n",
       "      <th>11</th>\n",
       "      <td>3/22/2010</td>\n",
       "      <td>557.50</td>\n",
       "      <td>-0.004464</td>\n",
       "    </tr>\n",
       "    <tr>\n",
       "      <th>12</th>\n",
       "      <td>3/19/2010</td>\n",
       "      <td>560.00</td>\n",
       "      <td>-0.011299</td>\n",
       "    </tr>\n",
       "    <tr>\n",
       "      <th>13</th>\n",
       "      <td>3/18/2010</td>\n",
       "      <td>566.40</td>\n",
       "      <td>0.001485</td>\n",
       "    </tr>\n",
       "    <tr>\n",
       "      <th>14</th>\n",
       "      <td>3/17/2010</td>\n",
       "      <td>565.56</td>\n",
       "      <td>0.000637</td>\n",
       "    </tr>\n",
       "    <tr>\n",
       "      <th>15</th>\n",
       "      <td>3/16/2010</td>\n",
       "      <td>565.20</td>\n",
       "      <td>0.003587</td>\n",
       "    </tr>\n",
       "    <tr>\n",
       "      <th>16</th>\n",
       "      <td>3/15/2010</td>\n",
       "      <td>563.18</td>\n",
       "      <td>-0.028229</td>\n",
       "    </tr>\n",
       "    <tr>\n",
       "      <th>17</th>\n",
       "      <td>3/12/2010</td>\n",
       "      <td>579.54</td>\n",
       "      <td>-0.002753</td>\n",
       "    </tr>\n",
       "    <tr>\n",
       "      <th>18</th>\n",
       "      <td>3/11/2010</td>\n",
       "      <td>581.14</td>\n",
       "      <td>0.008136</td>\n",
       "    </tr>\n",
       "    <tr>\n",
       "      <th>19</th>\n",
       "      <td>3/10/2010</td>\n",
       "      <td>576.45</td>\n",
       "      <td>0.029026</td>\n",
       "    </tr>\n",
       "    <tr>\n",
       "      <th>20</th>\n",
       "      <td>3/9/2010</td>\n",
       "      <td>560.19</td>\n",
       "      <td>-0.004071</td>\n",
       "    </tr>\n",
       "    <tr>\n",
       "      <th>21</th>\n",
       "      <td>3/8/2010</td>\n",
       "      <td>562.48</td>\n",
       "      <td>-0.003066</td>\n",
       "    </tr>\n",
       "    <tr>\n",
       "      <th>22</th>\n",
       "      <td>3/5/2010</td>\n",
       "      <td>564.21</td>\n",
       "      <td>0.017346</td>\n",
       "    </tr>\n",
       "    <tr>\n",
       "      <th>23</th>\n",
       "      <td>3/4/2010</td>\n",
       "      <td>554.59</td>\n",
       "      <td>0.016999</td>\n",
       "    </tr>\n",
       "    <tr>\n",
       "      <th>24</th>\n",
       "      <td>3/3/2010</td>\n",
       "      <td>545.32</td>\n",
       "      <td>0.007873</td>\n",
       "    </tr>\n",
       "    <tr>\n",
       "      <th>25</th>\n",
       "      <td>3/2/2010</td>\n",
       "      <td>541.06</td>\n",
       "      <td>0.015713</td>\n",
       "    </tr>\n",
       "    <tr>\n",
       "      <th>26</th>\n",
       "      <td>3/1/2010</td>\n",
       "      <td>532.69</td>\n",
       "      <td>0.011181</td>\n",
       "    </tr>\n",
       "    <tr>\n",
       "      <th>27</th>\n",
       "      <td>2/26/2010</td>\n",
       "      <td>526.80</td>\n",
       "      <td>0.000703</td>\n",
       "    </tr>\n",
       "    <tr>\n",
       "      <th>28</th>\n",
       "      <td>2/25/2010</td>\n",
       "      <td>526.43</td>\n",
       "      <td>-0.009483</td>\n",
       "    </tr>\n",
       "    <tr>\n",
       "      <th>29</th>\n",
       "      <td>2/24/2010</td>\n",
       "      <td>531.47</td>\n",
       "      <td>-0.006728</td>\n",
       "    </tr>\n",
       "    <tr>\n",
       "      <th>...</th>\n",
       "      <td>...</td>\n",
       "      <td>...</td>\n",
       "      <td>...</td>\n",
       "    </tr>\n",
       "    <tr>\n",
       "      <th>1228</th>\n",
       "      <td>5/19/2005</td>\n",
       "      <td>239.18</td>\n",
       "      <td>0.000084</td>\n",
       "    </tr>\n",
       "    <tr>\n",
       "      <th>1229</th>\n",
       "      <td>5/18/2005</td>\n",
       "      <td>239.16</td>\n",
       "      <td>0.025865</td>\n",
       "    </tr>\n",
       "    <tr>\n",
       "      <th>1230</th>\n",
       "      <td>5/17/2005</td>\n",
       "      <td>233.13</td>\n",
       "      <td>0.009002</td>\n",
       "    </tr>\n",
       "    <tr>\n",
       "      <th>1231</th>\n",
       "      <td>5/16/2005</td>\n",
       "      <td>231.05</td>\n",
       "      <td>0.007896</td>\n",
       "    </tr>\n",
       "    <tr>\n",
       "      <th>1232</th>\n",
       "      <td>5/13/2005</td>\n",
       "      <td>229.24</td>\n",
       "      <td>0.002274</td>\n",
       "    </tr>\n",
       "    <tr>\n",
       "      <th>1233</th>\n",
       "      <td>5/12/2005</td>\n",
       "      <td>228.72</td>\n",
       "      <td>-0.011112</td>\n",
       "    </tr>\n",
       "    <tr>\n",
       "      <th>1234</th>\n",
       "      <td>5/11/2005</td>\n",
       "      <td>231.29</td>\n",
       "      <td>0.015320</td>\n",
       "    </tr>\n",
       "    <tr>\n",
       "      <th>1235</th>\n",
       "      <td>5/10/2005</td>\n",
       "      <td>227.80</td>\n",
       "      <td>0.007875</td>\n",
       "    </tr>\n",
       "    <tr>\n",
       "      <th>1236</th>\n",
       "      <td>5/9/2005</td>\n",
       "      <td>226.02</td>\n",
       "      <td>-0.008771</td>\n",
       "    </tr>\n",
       "    <tr>\n",
       "      <th>1237</th>\n",
       "      <td>5/6/2005</td>\n",
       "      <td>228.02</td>\n",
       "      <td>0.004582</td>\n",
       "    </tr>\n",
       "    <tr>\n",
       "      <th>1238</th>\n",
       "      <td>5/5/2005</td>\n",
       "      <td>226.98</td>\n",
       "      <td>-0.006652</td>\n",
       "    </tr>\n",
       "    <tr>\n",
       "      <th>1239</th>\n",
       "      <td>5/4/2005</td>\n",
       "      <td>228.50</td>\n",
       "      <td>0.010213</td>\n",
       "    </tr>\n",
       "    <tr>\n",
       "      <th>1240</th>\n",
       "      <td>5/3/2005</td>\n",
       "      <td>226.19</td>\n",
       "      <td>0.017545</td>\n",
       "    </tr>\n",
       "    <tr>\n",
       "      <th>1241</th>\n",
       "      <td>5/2/2005</td>\n",
       "      <td>222.29</td>\n",
       "      <td>0.010409</td>\n",
       "    </tr>\n",
       "    <tr>\n",
       "      <th>1242</th>\n",
       "      <td>4/29/2005</td>\n",
       "      <td>220.00</td>\n",
       "      <td>0.002506</td>\n",
       "    </tr>\n",
       "    <tr>\n",
       "      <th>1243</th>\n",
       "      <td>4/28/2005</td>\n",
       "      <td>219.45</td>\n",
       "      <td>-0.001502</td>\n",
       "    </tr>\n",
       "    <tr>\n",
       "      <th>1244</th>\n",
       "      <td>4/27/2005</td>\n",
       "      <td>219.78</td>\n",
       "      <td>0.004709</td>\n",
       "    </tr>\n",
       "    <tr>\n",
       "      <th>1245</th>\n",
       "      <td>4/26/2005</td>\n",
       "      <td>218.75</td>\n",
       "      <td>-0.021384</td>\n",
       "    </tr>\n",
       "    <tr>\n",
       "      <th>1246</th>\n",
       "      <td>4/25/2005</td>\n",
       "      <td>223.53</td>\n",
       "      <td>0.035772</td>\n",
       "    </tr>\n",
       "    <tr>\n",
       "      <th>1247</th>\n",
       "      <td>4/22/2005</td>\n",
       "      <td>215.81</td>\n",
       "      <td>0.056753</td>\n",
       "    </tr>\n",
       "    <tr>\n",
       "      <th>1248</th>\n",
       "      <td>4/21/2005</td>\n",
       "      <td>204.22</td>\n",
       "      <td>0.030893</td>\n",
       "    </tr>\n",
       "    <tr>\n",
       "      <th>1249</th>\n",
       "      <td>4/20/2005</td>\n",
       "      <td>198.10</td>\n",
       "      <td>0.035005</td>\n",
       "    </tr>\n",
       "    <tr>\n",
       "      <th>1250</th>\n",
       "      <td>4/19/2005</td>\n",
       "      <td>191.40</td>\n",
       "      <td>0.023694</td>\n",
       "    </tr>\n",
       "    <tr>\n",
       "      <th>1251</th>\n",
       "      <td>4/18/2005</td>\n",
       "      <td>186.97</td>\n",
       "      <td>0.010649</td>\n",
       "    </tr>\n",
       "    <tr>\n",
       "      <th>1252</th>\n",
       "      <td>4/15/2005</td>\n",
       "      <td>185.00</td>\n",
       "      <td>-0.033690</td>\n",
       "    </tr>\n",
       "    <tr>\n",
       "      <th>1253</th>\n",
       "      <td>4/14/2005</td>\n",
       "      <td>191.45</td>\n",
       "      <td>-0.007671</td>\n",
       "    </tr>\n",
       "    <tr>\n",
       "      <th>1254</th>\n",
       "      <td>4/13/2005</td>\n",
       "      <td>192.93</td>\n",
       "      <td>-0.005310</td>\n",
       "    </tr>\n",
       "    <tr>\n",
       "      <th>1255</th>\n",
       "      <td>4/12/2005</td>\n",
       "      <td>193.96</td>\n",
       "      <td>0.003778</td>\n",
       "    </tr>\n",
       "    <tr>\n",
       "      <th>1256</th>\n",
       "      <td>4/11/2005</td>\n",
       "      <td>193.23</td>\n",
       "      <td>0.006144</td>\n",
       "    </tr>\n",
       "    <tr>\n",
       "      <th>1257</th>\n",
       "      <td>4/8/2005</td>\n",
       "      <td>192.05</td>\n",
       "      <td>NaN</td>\n",
       "    </tr>\n",
       "  </tbody>\n",
       "</table>\n",
       "<p>1258 rows × 3 columns</p>\n",
       "</div>"
      ],
      "text/plain": [
       "           Date   Price   Returns\n",
       "0      4/7/2010  563.54 -0.008236\n",
       "1      4/6/2010  568.22 -0.004886\n",
       "2      4/5/2010  571.01  0.003885\n",
       "3      4/1/2010  568.80  0.002962\n",
       "4     3/31/2010  567.12  0.000723\n",
       "5     3/30/2010  566.71  0.007574\n",
       "6     3/29/2010  562.45 -0.000427\n",
       "7     3/26/2010  562.69 -0.000338\n",
       "8     3/25/2010  562.88  0.009958\n",
       "9     3/24/2010  557.33  0.015173\n",
       "10    3/23/2010  549.00 -0.015247\n",
       "11    3/22/2010  557.50 -0.004464\n",
       "12    3/19/2010  560.00 -0.011299\n",
       "13    3/18/2010  566.40  0.001485\n",
       "14    3/17/2010  565.56  0.000637\n",
       "15    3/16/2010  565.20  0.003587\n",
       "16    3/15/2010  563.18 -0.028229\n",
       "17    3/12/2010  579.54 -0.002753\n",
       "18    3/11/2010  581.14  0.008136\n",
       "19    3/10/2010  576.45  0.029026\n",
       "20     3/9/2010  560.19 -0.004071\n",
       "21     3/8/2010  562.48 -0.003066\n",
       "22     3/5/2010  564.21  0.017346\n",
       "23     3/4/2010  554.59  0.016999\n",
       "24     3/3/2010  545.32  0.007873\n",
       "25     3/2/2010  541.06  0.015713\n",
       "26     3/1/2010  532.69  0.011181\n",
       "27    2/26/2010  526.80  0.000703\n",
       "28    2/25/2010  526.43 -0.009483\n",
       "29    2/24/2010  531.47 -0.006728\n",
       "...         ...     ...       ...\n",
       "1228  5/19/2005  239.18  0.000084\n",
       "1229  5/18/2005  239.16  0.025865\n",
       "1230  5/17/2005  233.13  0.009002\n",
       "1231  5/16/2005  231.05  0.007896\n",
       "1232  5/13/2005  229.24  0.002274\n",
       "1233  5/12/2005  228.72 -0.011112\n",
       "1234  5/11/2005  231.29  0.015320\n",
       "1235  5/10/2005  227.80  0.007875\n",
       "1236   5/9/2005  226.02 -0.008771\n",
       "1237   5/6/2005  228.02  0.004582\n",
       "1238   5/5/2005  226.98 -0.006652\n",
       "1239   5/4/2005  228.50  0.010213\n",
       "1240   5/3/2005  226.19  0.017545\n",
       "1241   5/2/2005  222.29  0.010409\n",
       "1242  4/29/2005  220.00  0.002506\n",
       "1243  4/28/2005  219.45 -0.001502\n",
       "1244  4/27/2005  219.78  0.004709\n",
       "1245  4/26/2005  218.75 -0.021384\n",
       "1246  4/25/2005  223.53  0.035772\n",
       "1247  4/22/2005  215.81  0.056753\n",
       "1248  4/21/2005  204.22  0.030893\n",
       "1249  4/20/2005  198.10  0.035005\n",
       "1250  4/19/2005  191.40  0.023694\n",
       "1251  4/18/2005  186.97  0.010649\n",
       "1252  4/15/2005  185.00 -0.033690\n",
       "1253  4/14/2005  191.45 -0.007671\n",
       "1254  4/13/2005  192.93 -0.005310\n",
       "1255  4/12/2005  193.96  0.003778\n",
       "1256  4/11/2005  193.23  0.006144\n",
       "1257   4/8/2005  192.05       NaN\n",
       "\n",
       "[1258 rows x 3 columns]"
      ]
     },
     "execution_count": 24,
     "metadata": {},
     "output_type": "execute_result"
    }
   ],
   "source": [
    "data"
   ]
  },
  {
   "cell_type": "code",
   "execution_count": 25,
   "metadata": {
    "collapsed": true
   },
   "outputs": [],
   "source": [
    "def readFile(filename):\n",
    "    data = pd.read_csv(filename,sep=\",\", usecols=[0,4], names=['Date','Price'], header=0)\n",
    "    # convert individual columns into arrays\n",
    "    returns = np.array(data[\"Price\"][:-1],np.float)/np.array(data[\"Price\"][1:], np.float) - 1\n",
    "    data[\"Returns\"]=np.append(returns,np.nan)\n",
    "    data.index=data[\"Date\"]\n",
    "    #data = data[\"Returns\"][0:-1]\n",
    "    return data"
   ]
  },
  {
   "cell_type": "code",
   "execution_count": 26,
   "metadata": {
    "collapsed": false
   },
   "outputs": [],
   "source": [
    "googData = readFile(googFile)\n",
    "# nasdaqData = readFile(nasdaqFile)"
   ]
  },
  {
   "cell_type": "code",
   "execution_count": 27,
   "metadata": {
    "collapsed": false,
    "scrolled": true
   },
   "outputs": [
    {
     "data": {
      "text/html": [
       "<div>\n",
       "<table border=\"1\" class=\"dataframe\">\n",
       "  <thead>\n",
       "    <tr style=\"text-align: right;\">\n",
       "      <th></th>\n",
       "      <th>Date</th>\n",
       "      <th>Price</th>\n",
       "      <th>Returns</th>\n",
       "    </tr>\n",
       "    <tr>\n",
       "      <th>Date</th>\n",
       "      <th></th>\n",
       "      <th></th>\n",
       "      <th></th>\n",
       "    </tr>\n",
       "  </thead>\n",
       "  <tbody>\n",
       "    <tr>\n",
       "      <th>4/7/2010</th>\n",
       "      <td>4/7/2010</td>\n",
       "      <td>563.54</td>\n",
       "      <td>-0.008236</td>\n",
       "    </tr>\n",
       "    <tr>\n",
       "      <th>4/6/2010</th>\n",
       "      <td>4/6/2010</td>\n",
       "      <td>568.22</td>\n",
       "      <td>-0.004886</td>\n",
       "    </tr>\n",
       "    <tr>\n",
       "      <th>4/5/2010</th>\n",
       "      <td>4/5/2010</td>\n",
       "      <td>571.01</td>\n",
       "      <td>0.003885</td>\n",
       "    </tr>\n",
       "    <tr>\n",
       "      <th>4/1/2010</th>\n",
       "      <td>4/1/2010</td>\n",
       "      <td>568.80</td>\n",
       "      <td>0.002962</td>\n",
       "    </tr>\n",
       "    <tr>\n",
       "      <th>3/31/2010</th>\n",
       "      <td>3/31/2010</td>\n",
       "      <td>567.12</td>\n",
       "      <td>0.000723</td>\n",
       "    </tr>\n",
       "  </tbody>\n",
       "</table>\n",
       "</div>"
      ],
      "text/plain": [
       "                Date   Price   Returns\n",
       "Date                                  \n",
       "4/7/2010    4/7/2010  563.54 -0.008236\n",
       "4/6/2010    4/6/2010  568.22 -0.004886\n",
       "4/5/2010    4/5/2010  571.01  0.003885\n",
       "4/1/2010    4/1/2010  568.80  0.002962\n",
       "3/31/2010  3/31/2010  567.12  0.000723"
      ]
     },
     "execution_count": 27,
     "metadata": {},
     "output_type": "execute_result"
    }
   ],
   "source": [
    "googData.head()"
   ]
  },
  {
   "cell_type": "code",
   "execution_count": 28,
   "metadata": {
    "collapsed": false
   },
   "outputs": [],
   "source": [
    "# nasdaqData.head()"
   ]
  },
  {
   "cell_type": "code",
   "execution_count": 29,
   "metadata": {
    "collapsed": false
   },
   "outputs": [],
   "source": [
    "# xData = nasdaqData[\"Returns\"][0:15].reshape(-1,1)\n",
    "xData = googData[\"Returns\"][0:-1].reshape(-1,1)"
   ]
  },
  {
   "cell_type": "code",
   "execution_count": 30,
   "metadata": {
    "collapsed": false
   },
   "outputs": [
    {
     "data": {
      "text/plain": [
       "array([[-0.00823625],\n",
       "       [-0.00488608],\n",
       "       [ 0.00388537],\n",
       "       ..., \n",
       "       [-0.00531037],\n",
       "       [ 0.00377788],\n",
       "       [ 0.00614423]])"
      ]
     },
     "execution_count": 30,
     "metadata": {},
     "output_type": "execute_result"
    }
   ],
   "source": [
    "xData"
   ]
  },
  {
   "cell_type": "code",
   "execution_count": 37,
   "metadata": {
    "collapsed": true
   },
   "outputs": [],
   "source": [
    "yData = googData[\"Returns\"][0:-1]"
   ]
  },
  {
   "cell_type": "code",
   "execution_count": 38,
   "metadata": {
    "collapsed": false
   },
   "outputs": [
    {
     "data": {
      "text/plain": [
       "Date\n",
       "4/7/2010    -0.008236\n",
       "4/6/2010    -0.004886\n",
       "4/5/2010     0.003885\n",
       "4/1/2010     0.002962\n",
       "3/31/2010    0.000723\n",
       "3/30/2010    0.007574\n",
       "3/29/2010   -0.000427\n",
       "3/26/2010   -0.000338\n",
       "3/25/2010    0.009958\n",
       "3/24/2010    0.015173\n",
       "3/23/2010   -0.015247\n",
       "3/22/2010   -0.004464\n",
       "3/19/2010   -0.011299\n",
       "3/18/2010    0.001485\n",
       "3/17/2010    0.000637\n",
       "3/16/2010    0.003587\n",
       "3/15/2010   -0.028229\n",
       "3/12/2010   -0.002753\n",
       "3/11/2010    0.008136\n",
       "3/10/2010    0.029026\n",
       "3/9/2010    -0.004071\n",
       "3/8/2010    -0.003066\n",
       "3/5/2010     0.017346\n",
       "3/4/2010     0.016999\n",
       "3/3/2010     0.007873\n",
       "3/2/2010     0.015713\n",
       "3/1/2010     0.011181\n",
       "2/26/2010    0.000703\n",
       "2/25/2010   -0.009483\n",
       "2/24/2010   -0.006728\n",
       "               ...   \n",
       "5/20/2005    0.010160\n",
       "5/19/2005    0.000084\n",
       "5/18/2005    0.025865\n",
       "5/17/2005    0.009002\n",
       "5/16/2005    0.007896\n",
       "5/13/2005    0.002274\n",
       "5/12/2005   -0.011112\n",
       "5/11/2005    0.015320\n",
       "5/10/2005    0.007875\n",
       "5/9/2005    -0.008771\n",
       "5/6/2005     0.004582\n",
       "5/5/2005    -0.006652\n",
       "5/4/2005     0.010213\n",
       "5/3/2005     0.017545\n",
       "5/2/2005     0.010409\n",
       "4/29/2005    0.002506\n",
       "4/28/2005   -0.001502\n",
       "4/27/2005    0.004709\n",
       "4/26/2005   -0.021384\n",
       "4/25/2005    0.035772\n",
       "4/22/2005    0.056753\n",
       "4/21/2005    0.030893\n",
       "4/20/2005    0.035005\n",
       "4/19/2005    0.023694\n",
       "4/18/2005    0.010649\n",
       "4/15/2005   -0.033690\n",
       "4/14/2005   -0.007671\n",
       "4/13/2005   -0.005310\n",
       "4/12/2005    0.003778\n",
       "4/11/2005    0.006144\n",
       "Name: Returns, dtype: float64"
      ]
     },
     "execution_count": 38,
     "metadata": {},
     "output_type": "execute_result"
    }
   ],
   "source": [
    "yData"
   ]
  },
  {
   "cell_type": "code",
   "execution_count": 39,
   "metadata": {
    "collapsed": true
   },
   "outputs": [],
   "source": [
    "from sklearn import datasets, linear_model"
   ]
  },
  {
   "cell_type": "code",
   "execution_count": 40,
   "metadata": {
    "collapsed": true
   },
   "outputs": [],
   "source": [
    "goodGoogModel = linear_model.LinearRegression()"
   ]
  },
  {
   "cell_type": "code",
   "execution_count": 41,
   "metadata": {
    "collapsed": false
   },
   "outputs": [
    {
     "data": {
      "text/plain": [
       "LinearRegression(copy_X=True, fit_intercept=True, n_jobs=1, normalize=False)"
      ]
     },
     "execution_count": 41,
     "metadata": {},
     "output_type": "execute_result"
    }
   ],
   "source": [
    "goodGoogModel.fit(xData,yData)"
   ]
  },
  {
   "cell_type": "code",
   "execution_count": 42,
   "metadata": {
    "collapsed": false
   },
   "outputs": [
    {
     "data": {
      "text/plain": [
       "1.0"
      ]
     },
     "execution_count": 42,
     "metadata": {},
     "output_type": "execute_result"
    }
   ],
   "source": [
    "goodGoogModel.score(xData,yData)"
   ]
  },
  {
   "cell_type": "code",
   "execution_count": 43,
   "metadata": {
    "collapsed": false
   },
   "outputs": [
    {
     "data": {
      "text/plain": [
       "array([ 1.])"
      ]
     },
     "execution_count": 43,
     "metadata": {},
     "output_type": "execute_result"
    }
   ],
   "source": [
    "goodGoogModel.coef_"
   ]
  },
  {
   "cell_type": "code",
   "execution_count": 44,
   "metadata": {
    "collapsed": true
   },
   "outputs": [],
   "source": [
    "from matplotlib.pyplot import scatter\n",
    "import matplotlib.pyplot as plt"
   ]
  },
  {
   "cell_type": "code",
   "execution_count": null,
   "metadata": {
    "collapsed": true
   },
   "outputs": [],
   "source": []
  },
  {
   "cell_type": "code",
   "execution_count": 45,
   "metadata": {
    "collapsed": false
   },
   "outputs": [
    {
     "data": {
      "text/plain": [
       "[<matplotlib.lines.Line2D at 0x7f8bcc0b9240>]"
      ]
     },
     "execution_count": 45,
     "metadata": {},
     "output_type": "execute_result"
    }
   ],
   "source": [
    "plt.scatter(xData, yData, color='black')\n",
    "plt.plot(xData, goodGoogModel.predict(xData), color='blue', linewidth=3)"
   ]
  },
  {
   "cell_type": "code",
   "execution_count": 46,
   "metadata": {
    "collapsed": false
   },
   "outputs": [
    {
     "data": {
      "text/plain": [
       "([], <a list of 0 Text yticklabel objects>)"
      ]
     },
     "execution_count": 46,
     "metadata": {},
     "output_type": "execute_result"
    }
   ],
   "source": [
    "plt.xticks(())\n",
    "plt.yticks(())"
   ]
  },
  {
   "cell_type": "code",
   "execution_count": null,
   "metadata": {
    "collapsed": true
   },
   "outputs": [],
   "source": [
    "plt.show()"
   ]
  }
 ],
 "metadata": {
  "anaconda-cloud": {},
  "kernelspec": {
   "display_name": "Python [Root]",
   "language": "python",
   "name": "Python [Root]"
  },
  "language_info": {
   "codemirror_mode": {
    "name": "ipython",
    "version": 3
   },
   "file_extension": ".py",
   "mimetype": "text/x-python",
   "name": "python",
   "nbconvert_exporter": "python",
   "pygments_lexer": "ipython3",
   "version": "3.5.2"
  }
 },
 "nbformat": 4,
 "nbformat_minor": 0
}
